{
 "cells": [
  {
   "cell_type": "code",
   "execution_count": 2,
   "metadata": {},
   "outputs": [],
   "source": [
    "import pandas as pd\n",
    "import numpy as np"
   ]
  },
  {
   "cell_type": "code",
   "execution_count": 3,
   "metadata": {},
   "outputs": [],
   "source": [
    "df = pd.read_csv(\"datasets/recorrido-colectivos.csv\", delimiter=\";\", encoding=\"latin1\", error_bad_lines=False)"
   ]
  },
  {
   "cell_type": "code",
   "execution_count": 4,
   "metadata": {},
   "outputs": [
    {
     "data": {
      "text/plain": [
       "(1113, 6)"
      ]
     },
     "execution_count": 4,
     "metadata": {},
     "output_type": "execute_result"
    }
   ],
   "source": [
    "df.shape"
   ]
  },
  {
   "cell_type": "code",
   "execution_count": 5,
   "metadata": {},
   "outputs": [
    {
     "data": {
      "text/plain": [
       "0    LINESTRING (-58.6241836989073 -34.562823500814...\n",
       "Name: WKT, dtype: object"
      ]
     },
     "execution_count": 5,
     "metadata": {},
     "output_type": "execute_result"
    }
   ],
   "source": [
    "df.WKT.head(1)"
   ]
  },
  {
   "cell_type": "code",
   "execution_count": 6,
   "metadata": {},
   "outputs": [],
   "source": [
    "from geopandas import GeoDataFrame\n",
    "from shapely.geometry import LineString\n",
    "from shapely import  wkt\n",
    "import json"
   ]
  },
  {
   "cell_type": "code",
   "execution_count": 25,
   "metadata": {},
   "outputs": [
    {
     "data": {
      "text/plain": [
       "0    LINESTRING (77.29000000000001 29.07, 77.42 29....\n",
       "Name: linestring, dtype: object"
      ]
     },
     "execution_count": 25,
     "metadata": {},
     "output_type": "execute_result"
    }
   ],
   "source": [
    "\n",
    "data = [['LINESTRING(77.29 29.07,77.42 29.26,77.27 29.31,77.29 29.07)']] \n",
    "  \n",
    "# Create the pandas DataFrame \n",
    "df2 = pd.DataFrame(data, columns = ['linestring']) \n",
    "  \n",
    "# print dataframe. \n",
    "df2['linestring'].apply(wkt.loads)\n",
    "df2['linestring'].head(1).apply(wkt.loads)\n"
   ]
  },
  {
   "cell_type": "code",
   "execution_count": 8,
   "metadata": {},
   "outputs": [
    {
     "data": {
      "text/plain": [
       "0    LINESTRING (-58.6241836989073 -34.562823500814...\n",
       "1    LINESTRING (-58.4625359653171 -34.555477023218...\n",
       "2    LINESTRING (-58.4643450035316 -34.556404964623...\n",
       "3    LINESTRING (-58.4643450035316 -34.556404964623...\n",
       "4    LINESTRING (-58.6256346989071 -34.563149000814...\n",
       "5    LINESTRING (-58.6256346989071 -34.563149000814...\n",
       "6    LINESTRING (-58.4387300400178 -34.620189991944...\n",
       "7    LINESTRING (-58.5016340989322 -34.674006500794...\n",
       "8    LINESTRING (-58.5113275989328 -34.702186900792...\n",
       "9    LINESTRING (-58.5113275989328 -34.702186900792...\n",
       "Name: WKT, dtype: object"
      ]
     },
     "execution_count": 8,
     "metadata": {},
     "output_type": "execute_result"
    }
   ],
   "source": [
    "df['WKT'].head(10).apply(wkt.loads)"
   ]
  },
  {
   "cell_type": "code",
   "execution_count": 23,
   "metadata": {
    "scrolled": true
   },
   "outputs": [],
   "source": [
    "def isvalid(x):\n",
    "    try:\n",
    "        x.apply(wkt.loads)\n",
    "        return True\n",
    "    except:\n",
    "        return False\n",
    "\n",
    "\n",
    "df['is_valid'] = df['WKT'].apply(lambda x: isvalid(x))"
   ]
  },
  {
   "cell_type": "code",
   "execution_count": 24,
   "metadata": {},
   "outputs": [
    {
     "data": {
      "text/html": [
       "<div>\n",
       "<style scoped>\n",
       "    .dataframe tbody tr th:only-of-type {\n",
       "        vertical-align: middle;\n",
       "    }\n",
       "\n",
       "    .dataframe tbody tr th {\n",
       "        vertical-align: top;\n",
       "    }\n",
       "\n",
       "    .dataframe thead th {\n",
       "        text-align: right;\n",
       "    }\n",
       "</style>\n",
       "<table border=\"1\" class=\"dataframe\">\n",
       "  <thead>\n",
       "    <tr style=\"text-align: right;\">\n",
       "      <th></th>\n",
       "      <th>WKT</th>\n",
       "      <th>ID</th>\n",
       "      <th>LINEA</th>\n",
       "      <th>TIPO_SERVICIO</th>\n",
       "      <th>RAMAL</th>\n",
       "      <th>SENTIDO</th>\n",
       "      <th>is_valid</th>\n",
       "    </tr>\n",
       "  </thead>\n",
       "  <tbody>\n",
       "    <tr>\n",
       "      <th>0</th>\n",
       "      <td>LINESTRING (-58.6241836989073 -34.562823500814...</td>\n",
       "      <td>8438</td>\n",
       "      <td>175</td>\n",
       "      <td>COMUN BASICO</td>\n",
       "      <td>RAMAL A</td>\n",
       "      <td>VUELTA</td>\n",
       "      <td>False</td>\n",
       "    </tr>\n",
       "    <tr>\n",
       "      <th>1</th>\n",
       "      <td>LINESTRING (-58.4625359653171 -34.555477023218...</td>\n",
       "      <td>8439</td>\n",
       "      <td>175</td>\n",
       "      <td>COMUN BASICO</td>\n",
       "      <td>RAMAL A</td>\n",
       "      <td>IDA</td>\n",
       "      <td>False</td>\n",
       "    </tr>\n",
       "    <tr>\n",
       "      <th>2</th>\n",
       "      <td>LINESTRING (-58.4643450035316 -34.556404964623...</td>\n",
       "      <td>8440</td>\n",
       "      <td>169</td>\n",
       "      <td>COMUN BASICO</td>\n",
       "      <td>RAMAL A</td>\n",
       "      <td>IDA</td>\n",
       "      <td>False</td>\n",
       "    </tr>\n",
       "    <tr>\n",
       "      <th>3</th>\n",
       "      <td>LINESTRING (-58.4643450035316 -34.556404964623...</td>\n",
       "      <td>8441</td>\n",
       "      <td>169</td>\n",
       "      <td>COMUN BASICO</td>\n",
       "      <td>RAMAL B</td>\n",
       "      <td>IDA</td>\n",
       "      <td>False</td>\n",
       "    </tr>\n",
       "    <tr>\n",
       "      <th>4</th>\n",
       "      <td>LINESTRING (-58.6256346989071 -34.563149000814...</td>\n",
       "      <td>8442</td>\n",
       "      <td>169</td>\n",
       "      <td>COMUN BASICO</td>\n",
       "      <td>RAMAL A</td>\n",
       "      <td>VUELTA</td>\n",
       "      <td>False</td>\n",
       "    </tr>\n",
       "  </tbody>\n",
       "</table>\n",
       "</div>"
      ],
      "text/plain": [
       "                                                 WKT    ID  LINEA  \\\n",
       "0  LINESTRING (-58.6241836989073 -34.562823500814...  8438    175   \n",
       "1  LINESTRING (-58.4625359653171 -34.555477023218...  8439    175   \n",
       "2  LINESTRING (-58.4643450035316 -34.556404964623...  8440    169   \n",
       "3  LINESTRING (-58.4643450035316 -34.556404964623...  8441    169   \n",
       "4  LINESTRING (-58.6256346989071 -34.563149000814...  8442    169   \n",
       "\n",
       "  TIPO_SERVICIO    RAMAL SENTIDO  is_valid  \n",
       "0  COMUN BASICO  RAMAL A  VUELTA     False  \n",
       "1  COMUN BASICO  RAMAL A     IDA     False  \n",
       "2  COMUN BASICO  RAMAL A     IDA     False  \n",
       "3  COMUN BASICO  RAMAL B     IDA     False  \n",
       "4  COMUN BASICO  RAMAL A  VUELTA     False  "
      ]
     },
     "execution_count": 24,
     "metadata": {},
     "output_type": "execute_result"
    }
   ],
   "source": [
    "df.head(5)"
   ]
  },
  {
   "cell_type": "code",
   "execution_count": null,
   "metadata": {},
   "outputs": [],
   "source": []
  }
 ],
 "metadata": {
  "kernelspec": {
   "display_name": "Python 3",
   "language": "python",
   "name": "python3"
  },
  "language_info": {
   "codemirror_mode": {
    "name": "ipython",
    "version": 3
   },
   "file_extension": ".py",
   "mimetype": "text/x-python",
   "name": "python",
   "nbconvert_exporter": "python",
   "pygments_lexer": "ipython3",
   "version": "3.6.7"
  }
 },
 "nbformat": 4,
 "nbformat_minor": 2
}
