{
 "cells": [
  {
   "cell_type": "code",
   "execution_count": 1,
   "metadata": {},
   "outputs": [],
   "source": [
    "import pandas as pd"
   ]
  },
  {
   "cell_type": "markdown",
   "metadata": {},
   "source": [
    "# Limpieza"
   ]
  },
  {
   "cell_type": "code",
   "execution_count": 2,
   "metadata": {},
   "outputs": [],
   "source": [
    "df = pd.read_csv(\"datasets/paradas-de-colectivo.csv\", delimiter=\";\", encoding=\"latin1\")"
   ]
  },
  {
   "cell_type": "code",
   "execution_count": 3,
   "metadata": {},
   "outputs": [
    {
     "data": {
      "text/html": [
       "<div>\n",
       "<style scoped>\n",
       "    .dataframe tbody tr th:only-of-type {\n",
       "        vertical-align: middle;\n",
       "    }\n",
       "\n",
       "    .dataframe tbody tr th {\n",
       "        vertical-align: top;\n",
       "    }\n",
       "\n",
       "    .dataframe thead th {\n",
       "        text-align: right;\n",
       "    }\n",
       "</style>\n",
       "<table border=\"1\" class=\"dataframe\">\n",
       "  <thead>\n",
       "    <tr style=\"text-align: right;\">\n",
       "      <th></th>\n",
       "      <th>X</th>\n",
       "      <th>Y</th>\n",
       "      <th>STOP_ID</th>\n",
       "      <th>TIPO</th>\n",
       "      <th>CALLE</th>\n",
       "      <th>NUMERO</th>\n",
       "      <th>ENTRE1</th>\n",
       "      <th>ENTRE2</th>\n",
       "      <th>LINEAS</th>\n",
       "      <th>DIR_NORM</th>\n",
       "      <th>CALLE_NORM</th>\n",
       "      <th>ALTURA_NOR</th>\n",
       "      <th>COORDX</th>\n",
       "      <th>COORDY</th>\n",
       "      <th>METROBUS</th>\n",
       "      <th>STOP_NAME</th>\n",
       "      <th>STOP_DESC</th>\n",
       "      <th>FUENTE</th>\n",
       "      <th>VERIFICADA</th>\n",
       "      <th>FECHA_ULTI</th>\n",
       "    </tr>\n",
       "  </thead>\n",
       "  <tbody>\n",
       "    <tr>\n",
       "      <th>0</th>\n",
       "      <td>-58,4327908137487</td>\n",
       "      <td>-34,5923809470</td>\n",
       "      <td>1000086</td>\n",
       "      <td>PARADAS CON REFUGIO</td>\n",
       "      <td>CORDOBA AV.</td>\n",
       "      <td>4859</td>\n",
       "      <td>ARMENIA</td>\n",
       "      <td>GURRUCHAGA</td>\n",
       "      <td>{151,168}</td>\n",
       "      <td>CORDOBA AV. 4859</td>\n",
       "      <td>CORDOBA AV.</td>\n",
       "      <td>4859.0</td>\n",
       "      <td>102.798.829.931.999.000.000</td>\n",
       "      <td>104.091.825.983.000.000.000</td>\n",
       "      <td>F</td>\n",
       "      <td>NaN</td>\n",
       "      <td>NaN</td>\n",
       "      <td>RELEVAMIENTO2015</td>\n",
       "      <td>T</td>\n",
       "      <td>9/4/2015</td>\n",
       "    </tr>\n",
       "    <tr>\n",
       "      <th>1</th>\n",
       "      <td>-58,5140298647844</td>\n",
       "      <td>-34,6016371880</td>\n",
       "      <td>1005465</td>\n",
       "      <td>PARADA NO OFICIAL</td>\n",
       "      <td>NUEVA YORK</td>\n",
       "      <td>4224</td>\n",
       "      <td>NaN</td>\n",
       "      <td>GUALEGUAYCHU</td>\n",
       "      <td>{105}</td>\n",
       "      <td>NUEVA YORK 4224</td>\n",
       "      <td>NUEVA YORK</td>\n",
       "      <td>4224.0</td>\n",
       "      <td>95.346.600.539.799.900.000</td>\n",
       "      <td>103.064.210.534.000.000.000</td>\n",
       "      <td>F</td>\n",
       "      <td>NaN</td>\n",
       "      <td>NaN</td>\n",
       "      <td>RELEVAMIENTO2015</td>\n",
       "      <td>T</td>\n",
       "      <td>17/4/2015</td>\n",
       "    </tr>\n",
       "    <tr>\n",
       "      <th>2</th>\n",
       "      <td>-58,4497660921390</td>\n",
       "      <td>-34,5544664433</td>\n",
       "      <td>1002096</td>\n",
       "      <td>PARADAS CON REFUGIO</td>\n",
       "      <td>DEL LIBERTADOR AV.</td>\n",
       "      <td>6250</td>\n",
       "      <td>BLANCO ENCALADA</td>\n",
       "      <td>OLAZABAL</td>\n",
       "      <td>{15,29}</td>\n",
       "      <td>DEL LIBERTADOR AV. 6250</td>\n",
       "      <td>DEL LIBERTADOR AV.</td>\n",
       "      <td>6250.0</td>\n",
       "      <td>101.242.081.519.000.000.000</td>\n",
       "      <td>108.298.117.206.000.000.000</td>\n",
       "      <td>F</td>\n",
       "      <td>NaN</td>\n",
       "      <td>NaN</td>\n",
       "      <td>RELEVAMIENTO2015</td>\n",
       "      <td>T</td>\n",
       "      <td>10/4/2015</td>\n",
       "    </tr>\n",
       "    <tr>\n",
       "      <th>3</th>\n",
       "      <td>-58,4941044948861</td>\n",
       "      <td>-34,5623407465</td>\n",
       "      <td>1006607</td>\n",
       "      <td>PARADAS CON REFUGIO</td>\n",
       "      <td>LARRALDE, CRISOLOGO AV.</td>\n",
       "      <td>5187</td>\n",
       "      <td>NaN</td>\n",
       "      <td>NaN</td>\n",
       "      <td>{110,71}</td>\n",
       "      <td>LARRALDE, CRISOLOGO AV. 5187</td>\n",
       "      <td>LARRALDE, CRISOLOGO AV.</td>\n",
       "      <td>5187.0</td>\n",
       "      <td>97.172.965.995.399.900.000</td>\n",
       "      <td>107.424.229.065.000.000.000</td>\n",
       "      <td>F</td>\n",
       "      <td>NaN</td>\n",
       "      <td>NaN</td>\n",
       "      <td>RELEVAMIENTO2015</td>\n",
       "      <td>T</td>\n",
       "      <td>14/4/2015</td>\n",
       "    </tr>\n",
       "    <tr>\n",
       "      <th>4</th>\n",
       "      <td>-58,4844741311517</td>\n",
       "      <td>-34,5757583663</td>\n",
       "      <td>1004767</td>\n",
       "      <td>PARADAS DE POSTE</td>\n",
       "      <td>OLAZABAL AV.</td>\n",
       "      <td>4920</td>\n",
       "      <td>NaN</td>\n",
       "      <td>TRIUNVIRATO AV.</td>\n",
       "      <td>{90}</td>\n",
       "      <td>OLAZABAL AV. 4920</td>\n",
       "      <td>OLAZABAL AV.</td>\n",
       "      <td>4920.0</td>\n",
       "      <td>98.057.080.321.899.900.000</td>\n",
       "      <td>105.936.009.144.000.000.000</td>\n",
       "      <td>F</td>\n",
       "      <td>NaN</td>\n",
       "      <td>NaN</td>\n",
       "      <td>RELEVAMIENTO2015</td>\n",
       "      <td>T</td>\n",
       "      <td>14/4/2015</td>\n",
       "    </tr>\n",
       "  </tbody>\n",
       "</table>\n",
       "</div>"
      ],
      "text/plain": [
       "                   X               Y  STOP_ID                 TIPO  \\\n",
       "0  -58,4327908137487  -34,5923809470  1000086  PARADAS CON REFUGIO   \n",
       "1  -58,5140298647844  -34,6016371880  1005465    PARADA NO OFICIAL   \n",
       "2  -58,4497660921390  -34,5544664433  1002096  PARADAS CON REFUGIO   \n",
       "3  -58,4941044948861  -34,5623407465  1006607  PARADAS CON REFUGIO   \n",
       "4  -58,4844741311517  -34,5757583663  1004767     PARADAS DE POSTE   \n",
       "\n",
       "                     CALLE NUMERO           ENTRE1           ENTRE2  \\\n",
       "0              CORDOBA AV.   4859          ARMENIA       GURRUCHAGA   \n",
       "1               NUEVA YORK   4224              NaN     GUALEGUAYCHU   \n",
       "2       DEL LIBERTADOR AV.   6250  BLANCO ENCALADA         OLAZABAL   \n",
       "3  LARRALDE, CRISOLOGO AV.   5187              NaN              NaN   \n",
       "4             OLAZABAL AV.   4920              NaN  TRIUNVIRATO AV.   \n",
       "\n",
       "      LINEAS                      DIR_NORM               CALLE_NORM  \\\n",
       "0  {151,168}              CORDOBA AV. 4859              CORDOBA AV.   \n",
       "1      {105}               NUEVA YORK 4224               NUEVA YORK   \n",
       "2    {15,29}       DEL LIBERTADOR AV. 6250       DEL LIBERTADOR AV.   \n",
       "3   {110,71}  LARRALDE, CRISOLOGO AV. 5187  LARRALDE, CRISOLOGO AV.   \n",
       "4       {90}             OLAZABAL AV. 4920             OLAZABAL AV.   \n",
       "\n",
       "   ALTURA_NOR                       COORDX                       COORDY  \\\n",
       "0      4859.0  102.798.829.931.999.000.000  104.091.825.983.000.000.000   \n",
       "1      4224.0   95.346.600.539.799.900.000  103.064.210.534.000.000.000   \n",
       "2      6250.0  101.242.081.519.000.000.000  108.298.117.206.000.000.000   \n",
       "3      5187.0   97.172.965.995.399.900.000  107.424.229.065.000.000.000   \n",
       "4      4920.0   98.057.080.321.899.900.000  105.936.009.144.000.000.000   \n",
       "\n",
       "  METROBUS STOP_NAME STOP_DESC            FUENTE VERIFICADA FECHA_ULTI  \n",
       "0        F       NaN       NaN  RELEVAMIENTO2015          T   9/4/2015  \n",
       "1        F       NaN       NaN  RELEVAMIENTO2015          T  17/4/2015  \n",
       "2        F       NaN       NaN  RELEVAMIENTO2015          T  10/4/2015  \n",
       "3        F       NaN       NaN  RELEVAMIENTO2015          T  14/4/2015  \n",
       "4        F       NaN       NaN  RELEVAMIENTO2015          T  14/4/2015  "
      ]
     },
     "execution_count": 3,
     "metadata": {},
     "output_type": "execute_result"
    }
   ],
   "source": [
    "df.head(5)"
   ]
  },
  {
   "cell_type": "markdown",
   "metadata": {},
   "source": [
    "Reemplazamos las ',' por '.' en X e y para que sean coordenadas válidas. "
   ]
  },
  {
   "cell_type": "code",
   "execution_count": 4,
   "metadata": {},
   "outputs": [],
   "source": [
    "df.X = df.X.str.replace(\",\",\".\")\n",
    "df.Y = df.Y.str.replace(\",\",\".\")"
   ]
  },
  {
   "cell_type": "markdown",
   "metadata": {},
   "source": [
    "Eliminamos las que no tienen calle o altura. **Chequear si esto está bien**."
   ]
  },
  {
   "cell_type": "code",
   "execution_count": 5,
   "metadata": {},
   "outputs": [],
   "source": [
    "df = df[~df.CALLE.isnull()]\n",
    "df = df[df.NUMERO != 'S/N']"
   ]
  },
  {
   "cell_type": "markdown",
   "metadata": {},
   "source": [
    "Creamos una nueva tabla donde cada fila es la correspondencia entre una parada y una línea que pasar por allí."
   ]
  },
  {
   "cell_type": "code",
   "execution_count": 6,
   "metadata": {},
   "outputs": [],
   "source": [
    "filas = []\n",
    "\n",
    "# Separa cada parada en una fila nueva por línea que pasa por allí.\n",
    "def separar_fila(fila, filas_nuevas):\n",
    "    lineas = fila.LINEAS[1:-1].split(',')\n",
    "    for linea in lineas:\n",
    "        fila_nueva = {'STOP_ID': fila.STOP_ID, 'LINEA': linea}\n",
    "        filas_nuevas.append(fila_nueva)\n",
    "\n",
    "df.apply(separar_fila, axis=1, args=(filas,))\n",
    "lineas_por_parada = pd.DataFrame(filas)"
   ]
  },
  {
   "cell_type": "markdown",
   "metadata": {},
   "source": [
    "Por el momento exportamos solo los datos necesarios para el punto 1. Esto incluye el id de la parada, las coordenadas, la calle y la altura. Luego iremos limpiando y agregando los otros campos a medida que sean necesarios. "
   ]
  },
  {
   "cell_type": "code",
   "execution_count": 7,
   "metadata": {},
   "outputs": [],
   "source": [
    "df[['STOP_ID','X','Y', 'CALLE', 'NUMERO' ]].to_csv('datasets/paradas-de-colectivo-clean.csv', index=False)\n",
    "lineas_por_parada.to_csv(\"datasets/lineas_por_parada.csv\", index = False)"
   ]
  },
  {
   "cell_type": "code",
   "execution_count": 20,
   "metadata": {},
   "outputs": [],
   "source": [
    "df_clean = pd.read_csv(\"datasets/paradas-de-colectivo-clean.csv\", delimiter=\",\", encoding=\"latin1\")"
   ]
  },
  {
   "cell_type": "code",
   "execution_count": 21,
   "metadata": {},
   "outputs": [
    {
     "data": {
      "text/html": [
       "<div>\n",
       "<style scoped>\n",
       "    .dataframe tbody tr th:only-of-type {\n",
       "        vertical-align: middle;\n",
       "    }\n",
       "\n",
       "    .dataframe tbody tr th {\n",
       "        vertical-align: top;\n",
       "    }\n",
       "\n",
       "    .dataframe thead th {\n",
       "        text-align: right;\n",
       "    }\n",
       "</style>\n",
       "<table border=\"1\" class=\"dataframe\">\n",
       "  <thead>\n",
       "    <tr style=\"text-align: right;\">\n",
       "      <th></th>\n",
       "      <th>STOP_ID</th>\n",
       "      <th>X</th>\n",
       "      <th>Y</th>\n",
       "      <th>CALLE</th>\n",
       "      <th>NUMERO</th>\n",
       "    </tr>\n",
       "  </thead>\n",
       "  <tbody>\n",
       "    <tr>\n",
       "      <th>0</th>\n",
       "      <td>1000086</td>\n",
       "      <td>-58.432791</td>\n",
       "      <td>-34.592381</td>\n",
       "      <td>CORDOBA AV.</td>\n",
       "      <td>4859</td>\n",
       "    </tr>\n",
       "    <tr>\n",
       "      <th>1</th>\n",
       "      <td>1005465</td>\n",
       "      <td>-58.514030</td>\n",
       "      <td>-34.601637</td>\n",
       "      <td>NUEVA YORK</td>\n",
       "      <td>4224</td>\n",
       "    </tr>\n",
       "    <tr>\n",
       "      <th>2</th>\n",
       "      <td>1002096</td>\n",
       "      <td>-58.449766</td>\n",
       "      <td>-34.554466</td>\n",
       "      <td>DEL LIBERTADOR AV.</td>\n",
       "      <td>6250</td>\n",
       "    </tr>\n",
       "    <tr>\n",
       "      <th>3</th>\n",
       "      <td>1006607</td>\n",
       "      <td>-58.494104</td>\n",
       "      <td>-34.562341</td>\n",
       "      <td>LARRALDE, CRISOLOGO AV.</td>\n",
       "      <td>5187</td>\n",
       "    </tr>\n",
       "    <tr>\n",
       "      <th>4</th>\n",
       "      <td>1004767</td>\n",
       "      <td>-58.484474</td>\n",
       "      <td>-34.575758</td>\n",
       "      <td>OLAZABAL AV.</td>\n",
       "      <td>4920</td>\n",
       "    </tr>\n",
       "  </tbody>\n",
       "</table>\n",
       "</div>"
      ],
      "text/plain": [
       "   STOP_ID          X          Y                    CALLE  NUMERO\n",
       "0  1000086 -58.432791 -34.592381              CORDOBA AV.    4859\n",
       "1  1005465 -58.514030 -34.601637               NUEVA YORK    4224\n",
       "2  1002096 -58.449766 -34.554466       DEL LIBERTADOR AV.    6250\n",
       "3  1006607 -58.494104 -34.562341  LARRALDE, CRISOLOGO AV.    5187\n",
       "4  1004767 -58.484474 -34.575758             OLAZABAL AV.    4920"
      ]
     },
     "execution_count": 21,
     "metadata": {},
     "output_type": "execute_result"
    }
   ],
   "source": [
    "df_clean.head(5)"
   ]
  },
  {
   "cell_type": "markdown",
   "metadata": {},
   "source": [
    "## Clean up adicional para otros campos"
   ]
  },
  {
   "cell_type": "markdown",
   "metadata": {},
   "source": [
    "Convertimos en bool el metrobus"
   ]
  },
  {
   "cell_type": "code",
   "execution_count": 8,
   "metadata": {},
   "outputs": [],
   "source": [
    "df.METROBUS = df.METROBUS == 'T'"
   ]
  },
  {
   "cell_type": "markdown",
   "metadata": {},
   "source": [
    "Convertimos en bool la verificación."
   ]
  },
  {
   "cell_type": "code",
   "execution_count": 9,
   "metadata": {},
   "outputs": [],
   "source": [
    "df.VERIFICADA = df.VERIFICADA == 'T'"
   ]
  },
  {
   "cell_type": "markdown",
   "metadata": {},
   "source": [
    "# Exploración"
   ]
  },
  {
   "cell_type": "code",
   "execution_count": 10,
   "metadata": {},
   "outputs": [
    {
     "data": {
      "text/plain": [
       "['X',\n",
       " 'Y',\n",
       " 'STOP_ID',\n",
       " 'TIPO',\n",
       " 'CALLE',\n",
       " 'NUMERO',\n",
       " 'ENTRE1',\n",
       " 'ENTRE2',\n",
       " 'LINEAS',\n",
       " 'DIR_NORM',\n",
       " 'CALLE_NORM',\n",
       " 'ALTURA_NOR',\n",
       " 'COORDX',\n",
       " 'COORDY',\n",
       " 'METROBUS',\n",
       " 'STOP_NAME',\n",
       " 'STOP_DESC',\n",
       " 'FUENTE',\n",
       " 'VERIFICADA',\n",
       " 'FECHA_ULTI']"
      ]
     },
     "execution_count": 10,
     "metadata": {},
     "output_type": "execute_result"
    }
   ],
   "source": [
    "[x  for x in df.columns]"
   ]
  },
  {
   "cell_type": "code",
   "execution_count": 11,
   "metadata": {},
   "outputs": [
    {
     "data": {
      "text/plain": [
       "X              object\n",
       "Y              object\n",
       "STOP_ID         int64\n",
       "TIPO           object\n",
       "CALLE          object\n",
       "NUMERO         object\n",
       "ENTRE1         object\n",
       "ENTRE2         object\n",
       "LINEAS         object\n",
       "DIR_NORM       object\n",
       "CALLE_NORM     object\n",
       "ALTURA_NOR    float64\n",
       "COORDX         object\n",
       "COORDY         object\n",
       "METROBUS         bool\n",
       "STOP_NAME      object\n",
       "STOP_DESC      object\n",
       "FUENTE         object\n",
       "VERIFICADA       bool\n",
       "FECHA_ULTI     object\n",
       "dtype: object"
      ]
     },
     "execution_count": 11,
     "metadata": {},
     "output_type": "execute_result"
    }
   ],
   "source": [
    "df.dtypes"
   ]
  },
  {
   "cell_type": "code",
   "execution_count": 12,
   "metadata": {},
   "outputs": [
    {
     "data": {
      "text/plain": [
       "array(['PARADAS CON REFUGIO', 'PARADA NO OFICIAL', 'PARADAS DE POSTE'],\n",
       "      dtype=object)"
      ]
     },
     "execution_count": 12,
     "metadata": {},
     "output_type": "execute_result"
    }
   ],
   "source": [
    "df.TIPO.unique()"
   ]
  },
  {
   "cell_type": "code",
   "execution_count": 13,
   "metadata": {},
   "outputs": [
    {
     "data": {
      "text/plain": [
       "array(['CORDOBA AV.', 'NUEVA YORK', 'DEL LIBERTADOR AV.',\n",
       "       'LARRALDE, CRISOLOGO AV.', 'OLAZABAL AV.'], dtype=object)"
      ]
     },
     "execution_count": 13,
     "metadata": {},
     "output_type": "execute_result"
    }
   ],
   "source": [
    "df.CALLE.head().unique()"
   ]
  },
  {
   "cell_type": "code",
   "execution_count": 14,
   "metadata": {},
   "outputs": [
    {
     "data": {
      "text/plain": [
       "False"
      ]
     },
     "execution_count": 14,
     "metadata": {},
     "output_type": "execute_result"
    }
   ],
   "source": [
    "df.NUMERO.hasnans"
   ]
  },
  {
   "cell_type": "code",
   "execution_count": 15,
   "metadata": {},
   "outputs": [
    {
     "data": {
      "text/plain": [
       "0    {151,168}\n",
       "1        {105}\n",
       "2      {15,29}\n",
       "3     {110,71}\n",
       "4         {90}\n",
       "Name: LINEAS, dtype: object"
      ]
     },
     "execution_count": 15,
     "metadata": {},
     "output_type": "execute_result"
    }
   ],
   "source": [
    "df.LINEAS.head()"
   ]
  },
  {
   "cell_type": "markdown",
   "metadata": {},
   "source": [
    "`ALTURA_NOR` debería ser int, pero tiene NaNs y eso le causa problemas a pandas."
   ]
  },
  {
   "cell_type": "code",
   "execution_count": 16,
   "metadata": {},
   "outputs": [
    {
     "data": {
      "text/plain": [
       "True"
      ]
     },
     "execution_count": 16,
     "metadata": {},
     "output_type": "execute_result"
    }
   ],
   "source": [
    "df.ALTURA_NOR.hasnans"
   ]
  },
  {
   "cell_type": "code",
   "execution_count": 17,
   "metadata": {},
   "outputs": [
    {
     "data": {
      "text/plain": [
       "0    102.798.829.931.999.000.000\n",
       "1     95.346.600.539.799.900.000\n",
       "2    101.242.081.519.000.000.000\n",
       "3     97.172.965.995.399.900.000\n",
       "4     98.057.080.321.899.900.000\n",
       "Name: COORDX, dtype: object"
      ]
     },
     "execution_count": 17,
     "metadata": {},
     "output_type": "execute_result"
    }
   ],
   "source": [
    "df.COORDX.head()"
   ]
  },
  {
   "cell_type": "code",
   "execution_count": 62,
   "metadata": {},
   "outputs": [
    {
     "data": {
      "text/plain": [
       "array([nan, 'CABILDO AV.&&RAMALLO', 'DEL LIBERTADOR AV.&&GODOY CRUZ', ...,\n",
       "       'ROCA, CNEL. AV.&&SALADILLO', '27 DE FEBRERO AV.&&PAZ, GRAL. AV.',\n",
       "       '27 DE FEBRERO AV.'], dtype=object)"
      ]
     },
     "execution_count": 62,
     "metadata": {},
     "output_type": "execute_result"
    }
   ],
   "source": [
    "df.STOP_DESC.unique()"
   ]
  },
  {
   "cell_type": "code",
   "execution_count": 64,
   "metadata": {
    "scrolled": false
   },
   "outputs": [
    {
     "data": {
      "text/plain": [
       "array(['RELEVAMIENTO2015', 'USIG'], dtype=object)"
      ]
     },
     "execution_count": 64,
     "metadata": {},
     "output_type": "execute_result"
    }
   ],
   "source": [
    "df.FUENTE.unique()"
   ]
  },
  {
   "cell_type": "code",
   "execution_count": 1,
   "metadata": {},
   "outputs": [
    {
     "name": "stdout",
     "output_type": "stream",
     "text": [
      "Object `df.FECHA_ULTI.astype` not found.\n"
     ]
    }
   ],
   "source": [
    "df.FECHA_ULTI.astype?"
   ]
  },
  {
   "cell_type": "code",
   "execution_count": null,
   "metadata": {},
   "outputs": [],
   "source": []
  }
 ],
 "metadata": {
  "kernelspec": {
   "display_name": "Python 3",
   "language": "python",
   "name": "python3"
  },
  "language_info": {
   "codemirror_mode": {
    "name": "ipython",
    "version": 3
   },
   "file_extension": ".py",
   "mimetype": "text/x-python",
   "name": "python",
   "nbconvert_exporter": "python",
   "pygments_lexer": "ipython3",
   "version": "3.6.7"
  }
 },
 "nbformat": 4,
 "nbformat_minor": 2
}
